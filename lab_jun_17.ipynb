{
  "nbformat": 4,
  "nbformat_minor": 0,
  "metadata": {
    "colab": {
      "provenance": []
    },
    "kernelspec": {
      "name": "python3",
      "display_name": "Python 3"
    },
    "language_info": {
      "name": "python"
    }
  },
  "cells": [
    {
      "cell_type": "markdown",
      "source": [
        "#Lab jun 17\n",
        "\n",
        "Intro to Pseudo Code"
      ],
      "metadata": {
        "id": "BwbiFeUqwL1v"
      }
    },
    {
      "cell_type": "markdown",
      "source": [
        "#The rules to define variables\n",
        "1) Must start with a Letter or_Underscore\n",
        "\n",
        "2) Consists of Letters, NUmbers and Underscores But it will not start with a Number\n",
        "\n",
        "3)Variable names are case sensitive\n",
        "\n",
        "\n"
      ],
      "metadata": {
        "id": "DIM-05OUx3va"
      }
    },
    {
      "cell_type": "code",
      "source": [
        "car = \"mercedes\"\n",
        "Car = \"audi\"\n",
        "car"
      ],
      "metadata": {
        "colab": {
          "base_uri": "https://localhost:8080/",
          "height": 35
        },
        "id": "Jmp5p_1T0m3f",
        "outputId": "b3960d59-d2c9-432c-bf3c-7ddd40853d70"
      },
      "execution_count": null,
      "outputs": [
        {
          "output_type": "execute_result",
          "data": {
            "text/plain": [
              "'mercedes'"
            ],
            "application/vnd.google.colaboratory.intrinsic+json": {
              "type": "string"
            }
          },
          "metadata": {},
          "execution_count": 7
        }
      ]
    },
    {
      "cell_type": "code",
      "source": [
        "Car"
      ],
      "metadata": {
        "colab": {
          "base_uri": "https://localhost:8080/",
          "height": 35
        },
        "id": "9nt6FpSQ039k",
        "outputId": "166f9037-2488-4b45-a889-858d88e9c18c"
      },
      "execution_count": null,
      "outputs": [
        {
          "output_type": "execute_result",
          "data": {
            "text/plain": [
              "'audi'"
            ],
            "application/vnd.google.colaboratory.intrinsic+json": {
              "type": "string"
            }
          },
          "metadata": {},
          "execution_count": 8
        }
      ]
    },
    {
      "cell_type": "markdown",
      "source": [
        "#Psuedo Code for my application\n",
        "\n",
        "I want to write a code that takes user input and prints it back to the screen.\n",
        "\n",
        "`First_name` the user's first name\n",
        "\n",
        "`Last_Name` the user's last name\n",
        "\n",
        "`Age` the user's age\n",
        "\n",
        "`Fav_Colour` the user's favourite colour\n",
        "\n",
        "`Fav_Sport` the user's favourite sport\n",
        "\n",
        "`Fav_Team` the user's favourite team\n",
        "\n",
        "use a 'built-in' process to take user's data.\n",
        "\n",
        "use a 'built-in' process to display user's data.\n",
        "\n",
        "\n",
        "\n",
        "\n",
        "\n",
        "\n",
        "\n"
      ],
      "metadata": {
        "id": "6wn5vfEt046J"
      }
    },
    {
      "cell_type": "markdown",
      "source": [
        "#Code for my application"
      ],
      "metadata": {
        "id": "1YqrZvYv2uIb"
      }
    },
    {
      "cell_type": "code",
      "source": [
        "First_name = 'John'\n",
        "Last_Name = 'Connor'\n",
        "Age = 23\n",
        "Fav_Colour = 'Gray'\n",
        "Fav_Sport = 'Soccer'\n",
        "Fav_Team = 'Man U'\n"
      ],
      "metadata": {
        "id": "kEck7CU63YGn"
      },
      "execution_count": null,
      "outputs": []
    },
    {
      "cell_type": "code",
      "source": [
        "print(First_name)"
      ],
      "metadata": {
        "colab": {
          "base_uri": "https://localhost:8080/"
        },
        "id": "yhNK6den34ja",
        "outputId": "911bdd7e-31f0-4112-f730-676139b96716"
      },
      "execution_count": null,
      "outputs": [
        {
          "output_type": "stream",
          "name": "stdout",
          "text": [
            "John\n"
          ]
        }
      ]
    },
    {
      "cell_type": "code",
      "source": [
        "First_name = input('What is your first name? ')"
      ],
      "metadata": {
        "colab": {
          "base_uri": "https://localhost:8080/"
        },
        "id": "6JbqkpRs3-0o",
        "outputId": "3b307b38-5d4d-4169-8457-08b891ee6e95"
      },
      "execution_count": null,
      "outputs": [
        {
          "name": "stdout",
          "output_type": "stream",
          "text": [
            "What is your first name? Tom\n"
          ]
        }
      ]
    },
    {
      "cell_type": "code",
      "source": [
        "First_name = input('What is your first name? ')\n",
        "#This line im using the input method to ask the users first name\n",
        "\n",
        "Last_Name = input('What is your last name? ')\n",
        "#To ask the users last name\n",
        "\n",
        "Age = input('What is your age? ')\n",
        "#To ask the users age\n",
        "\n",
        "Fav_Colour = input('What is your favourite colour? ')\n",
        "#To ask the users favorite color\n",
        "\n",
        "Fav_Sport = input('What is your favourite sport? ')\n",
        "#To ask the users favorite sport\n",
        "\n",
        "Fav_Team = input('What is your favourite team? ')\n",
        "#To ask the users favorite team\n"
      ],
      "metadata": {
        "colab": {
          "base_uri": "https://localhost:8080/"
        },
        "id": "vVi4iL1t4Csa",
        "outputId": "4f2f233f-fc1f-4b33-a548-515088aaf2ee"
      },
      "execution_count": null,
      "outputs": [
        {
          "name": "stdout",
          "output_type": "stream",
          "text": [
            "What is your first name? Maxwell\n",
            "What is your last name? G\n",
            "What is your age? 16\n",
            "What is your favourite colour? Black\n",
            "What is your favourite sport? Basketball\n",
            "What is your favourite team? Golden State warriors\n"
          ]
        }
      ]
    },
    {
      "cell_type": "code",
      "source": [
        "print(f\"User first name is, {First_name}, last name is, {Last_Name}, age is, {Age},\\\n",
        " favourite colour is, {Fav_Colour}, favourite sport is, {Fav_Sport}, favourite team is, {Fav_Team}\")\n",
        "#The input of the variable is between the curly brackets which is already defined in the previous code."
      ],
      "metadata": {
        "colab": {
          "base_uri": "https://localhost:8080/"
        },
        "id": "WQhlXvXO4INT",
        "outputId": "85b89923-c20c-4f0c-e552-9f49822fab1f"
      },
      "execution_count": null,
      "outputs": [
        {
          "output_type": "stream",
          "name": "stdout",
          "text": [
            "User first name is, Maxwell, last name is, G, age is, 16, favourite colour is, Black, favourite sport is, Basketball, favourite team is, Golden State warriors\n"
          ]
        }
      ]
    },
    {
      "cell_type": "markdown",
      "source": [
        "#F-String Formatting"
      ],
      "metadata": {
        "id": "OrwdZwrp5Tbp"
      }
    },
    {
      "cell_type": "code",
      "source": [
        "greetings = \"Hello\"\n",
        "name = \"John\""
      ],
      "metadata": {
        "id": "GONeXZGI6-B_"
      },
      "execution_count": null,
      "outputs": []
    },
    {
      "cell_type": "code",
      "source": [
        "print(\"hello there John\")"
      ],
      "metadata": {
        "colab": {
          "base_uri": "https://localhost:8080/"
        },
        "id": "Gojg59Ds7Dxo",
        "outputId": "685759b1-2db2-4446-c818-1a473286fa6d"
      },
      "execution_count": null,
      "outputs": [
        {
          "output_type": "stream",
          "name": "stdout",
          "text": [
            "hello there John\n"
          ]
        }
      ]
    },
    {
      "cell_type": "code",
      "source": [
        "print(f\"{greetings}, {name}\")"
      ],
      "metadata": {
        "colab": {
          "base_uri": "https://localhost:8080/"
        },
        "id": "H0LLdvk77KaL",
        "outputId": "5a9b52a0-4c82-40dd-ec32-0deeb7f06b87"
      },
      "execution_count": null,
      "outputs": [
        {
          "output_type": "stream",
          "name": "stdout",
          "text": [
            "Hello, John\n"
          ]
        }
      ]
    },
    {
      "cell_type": "code",
      "source": [],
      "metadata": {
        "id": "cqoF8alM7P9x"
      },
      "execution_count": null,
      "outputs": []
    }
  ]
}